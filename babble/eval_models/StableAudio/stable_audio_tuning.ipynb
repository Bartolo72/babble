{
  "cells": [
    {
      "cell_type": "markdown",
      "metadata": {
        "id": "QBFgbUazKZED"
      },
      "source": [
        "> *Notebook was created by following [lyraaa tutorial on StableAudio Fine Tuning](https://www.youtube.com/live/ex4OBD_lrds).*"
      ]
    },
    {
      "cell_type": "markdown",
      "metadata": {},
      "source": [
        "> StableAudio 1.0 fine-tuning requires at least 27 GB of GPU RAM. Please note that experiments conducted with less than this amount of resources may fail."
      ]
    },
    {
      "cell_type": "markdown",
      "metadata": {
        "id": "fhjfEP6h3Lw9"
      },
      "source": [
        "### Prepare Musicaps dataset"
      ]
    },
    {
      "cell_type": "code",
      "execution_count": 1,
      "metadata": {
        "id": "a-YUMxEFyGgi"
      },
      "outputs": [],
      "source": [
        "import gdown\n",
        "import os\n",
        "import zipfile"
      ]
    },
    {
      "cell_type": "code",
      "execution_count": 2,
      "metadata": {
        "id": "X8YzMCITyH7J"
      },
      "outputs": [],
      "source": [
        "def unzip_file(file_path: str) -> None:\n",
        "    with zipfile.ZipFile(file_path, 'r') as zip_ref:\n",
        "        zip_ref.extractall()"
      ]
    },
    {
      "cell_type": "code",
      "execution_count": 3,
      "metadata": {
        "id": "j1pmtb1KvzPs"
      },
      "outputs": [],
      "source": [
        "def preprare_musicaps_dataset(target_file_path: str, gdown_link: str) -> None:\n",
        "    gdown.download(gdown_link, output=target_file_path, quiet=True)\n",
        "    unzip_file(target_file_path)\n",
        "    os.remove(target_file_path)"
      ]
    },
    {
      "cell_type": "code",
      "execution_count": 4,
      "metadata": {
        "id": "MgkhP3QSyMOe"
      },
      "outputs": [],
      "source": [
        "musicaps_gdown_link: str = \"https://drive.google.com/uc?id=1FA9mzep-UkamVnk4GA_6wpgu_77Qy6c2\"\n",
        "output_dir: str = \"musicaps.zip\""
      ]
    },
    {
      "cell_type": "code",
      "execution_count": 5,
      "metadata": {
        "id": "jC-7h5Iv2mrQ"
      },
      "outputs": [],
      "source": [
        "preprare_musicaps_dataset(\n",
        "    target_file_path=output_dir,\n",
        "    gdown_link=musicaps_gdown_link\n",
        ")"
      ]
    },
    {
      "cell_type": "markdown",
      "metadata": {
        "id": "h5p-SOeyPTJy"
      },
      "source": [
        "### Prepare config files"
      ]
    },
    {
      "cell_type": "code",
      "execution_count": 6,
      "metadata": {
        "id": "8g0txFpCPxfL"
      },
      "outputs": [],
      "source": [
        "os.makedirs(\"conf\")"
      ]
    },
    {
      "cell_type": "code",
      "execution_count": null,
      "metadata": {
        "colab": {
          "base_uri": "https://localhost:8080/",
          "height": 17,
          "referenced_widgets": [
            "a81d81adefce4bbeb698d9b227944673",
            "422a4d2a667d4521ab4e0b04828b177e",
            "8e9c61198faa441c9b32ea48e704673b",
            "b320a1ab0b714c6c8ea85d4e9ba56faa",
            "31716f65bbd64a22b7a1733bd44186d6",
            "736e3adb4e39463aadee226bbc614a46",
            "6b823bb4c50d4fdb9a0a264b2a8fcd16",
            "bb6b7a43505a4bbab84a9229b3ad3c0c",
            "3831947bd1884d849e06e0ee082aa26e",
            "eaa7e598bcb54543be6404ef22f61165",
            "fe295c99725940d3acbabd1cad896075",
            "ce052555063b4cf48c2bff487b97b71e",
            "48c7adc095e84f29a115ef620d5d768d",
            "c581706139b248f3817864cc960a9963",
            "e36134b42d994433b4abd0747574631e",
            "5eda89d858ae482b87e54991c797437f",
            "920c2b602d2c4dc99e06e254ab6bc538",
            "8daed46c6baa4c3bb8bdf1d298ebbb0c",
            "5bfdbf9e064e438893d04b3fdf6e12d9",
            "c2c34f2d5abf425a867857a12d8c9a80"
          ]
        },
        "id": "YhJ03otue4wv",
        "outputId": "e4deca43-97f9-4282-ccef-62ef1ad18527"
      },
      "outputs": [],
      "source": [
        "from huggingface_hub import notebook_login\n",
        "\n",
        "# Log in to Hugging Face\n",
        "notebook_login()"
      ]
    },
    {
      "cell_type": "code",
      "execution_count": null,
      "metadata": {
        "colab": {
          "base_uri": "https://localhost:8080/",
          "height": 191,
          "referenced_widgets": [
            "55546c983cb04c6db1072e5a9b8af682",
            "944aa6410740490a9fee483a584f55e6",
            "8e8e9e401ba84260b594a5493078efac",
            "1aa21df8c12f4a15856e8c5108d89fdf",
            "000453d53e424a49806d709c84cac6a6",
            "caa66e9ec21d4bdb8ea48ab1f222dae1",
            "8f19e8a0c8fe48ee81e0c992456d3929",
            "dc0b3a8642bc4c98b6a9cbb42bdbb5c4",
            "4bdb94ea36e24622a16b9aa6d8a03918",
            "37bf8df79dfd45688804bb9af0832259",
            "b600619c85dc464b990ef7aedffd1ffc"
          ]
        },
        "id": "zAZ05XWqPSPJ",
        "outputId": "9afed6ca-0fb4-4ca8-b2b5-0a89768301ae"
      },
      "outputs": [],
      "source": [
        "from huggingface_hub import hf_hub_download\n",
        "\n",
        "# Download the checkpoint file\n",
        "hf_hub_download(\n",
        "    repo_id=\"stabilityai/stable-audio-open-1.0\",\n",
        "    filename=\"model.ckpt\",\n",
        "    local_dir=\"./\"\n",
        ")"
      ]
    },
    {
      "cell_type": "code",
      "execution_count": 12,
      "metadata": {
        "id": "D4l738zJPvGg"
      },
      "outputs": [],
      "source": [
        "dataset_config: str = \"\"\"\n",
        "{\n",
        "    \"dataset_type\": \"audio_dir\",\n",
        "    \"datasets\": [\n",
        "        {\n",
        "            \"id\": \"musicaps\",\n",
        "            \"path\": \"../musicaps/audio/\",\n",
        "            \"custom_metadata_module\": \"../custom_metadata.py\"\n",
        "        }\n",
        "    ],\n",
        "    \"random_crop\": false\n",
        "}\n",
        "\"\"\"\n",
        "\n",
        "\n",
        "with open(\"conf/dataset.json\", \"w\") as f:\n",
        "    f.write(dataset_config)"
      ]
    },
    {
      "cell_type": "code",
      "execution_count": 10,
      "metadata": {
        "id": "q_5brUp9eBtO"
      },
      "outputs": [],
      "source": [
        "model_config: str = \"\"\"\n",
        "{\n",
        "    \"model_type\": \"diffusion_cond\",\n",
        "    \"sample_size\": 262144,\n",
        "    \"sample_rate\": 44100,\n",
        "    \"audio_channels\": 2,\n",
        "    \"model\": {\n",
        "        \"pretransform\": {\n",
        "            \"type\": \"autoencoder\",\n",
        "            \"iterate_batch\": true,\n",
        "            \"config\": {\n",
        "                \"encoder\": {\n",
        "                    \"type\": \"oobleck\",\n",
        "                    \"requires_grad\": false,\n",
        "                    \"config\": {\n",
        "                        \"in_channels\": 2,\n",
        "                        \"channels\": 128,\n",
        "                        \"c_mults\": [1, 2, 4, 8, 16],\n",
        "                        \"strides\": [2, 4, 4, 8, 8],\n",
        "                        \"latent_dim\": 128,\n",
        "                        \"use_snake\": true\n",
        "                    }\n",
        "                },\n",
        "                \"decoder\": {\n",
        "                    \"type\": \"oobleck\",\n",
        "                    \"config\": {\n",
        "                        \"out_channels\": 2,\n",
        "                        \"channels\": 128,\n",
        "                        \"c_mults\": [1, 2, 4, 8, 16],\n",
        "                        \"strides\": [2, 4, 4, 8, 8],\n",
        "                        \"latent_dim\": 64,\n",
        "                        \"use_snake\": true,\n",
        "                        \"final_tanh\": false\n",
        "                    }\n",
        "                },\n",
        "                \"bottleneck\": {\n",
        "                    \"type\": \"vae\"\n",
        "                },\n",
        "                \"latent_dim\": 64,\n",
        "                \"downsampling_ratio\": 2048,\n",
        "                \"io_channels\": 2\n",
        "            }\n",
        "        },\n",
        "        \"conditioning\": {\n",
        "            \"configs\": [\n",
        "                {\n",
        "                    \"id\": \"prompt\",\n",
        "                    \"type\": \"t5\",\n",
        "                    \"config\": {\n",
        "                        \"t5_model_name\": \"t5-base\",\n",
        "                        \"max_length\": 128\n",
        "                    }\n",
        "                },\n",
        "                {\n",
        "                    \"id\": \"seconds_start\",\n",
        "                    \"type\": \"number\",\n",
        "                    \"config\": {\n",
        "                        \"min_val\": 0,\n",
        "                        \"max_val\": 512\n",
        "                    }\n",
        "                },\n",
        "                {\n",
        "                    \"id\": \"seconds_total\",\n",
        "                    \"type\": \"number\",\n",
        "                    \"config\": {\n",
        "                        \"min_val\": 0,\n",
        "                        \"max_val\": 512\n",
        "                    }\n",
        "                }\n",
        "            ],\n",
        "            \"cond_dim\": 768\n",
        "        },\n",
        "        \"diffusion\": {\n",
        "            \"cross_attention_cond_ids\": [\"prompt\", \"seconds_start\", \"seconds_total\"],\n",
        "            \"global_cond_ids\": [\"seconds_start\", \"seconds_total\"],\n",
        "            \"type\": \"dit\",\n",
        "            \"config\": {\n",
        "                \"io_channels\": 64,\n",
        "                \"embed_dim\": 1536,\n",
        "                \"depth\": 24,\n",
        "                \"num_heads\": 24,\n",
        "                \"cond_token_dim\": 768,\n",
        "                \"global_cond_dim\": 1536,\n",
        "                \"project_cond_tokens\": false,\n",
        "                \"transformer_type\": \"continuous_transformer\"\n",
        "            }\n",
        "        },\n",
        "        \"io_channels\": 64\n",
        "    },\n",
        "    \"training\": {\n",
        "        \"use_ema\": true,\n",
        "        \"log_loss_info\": false,\n",
        "        \"optimizer_configs\": {\n",
        "            \"diffusion\": {\n",
        "                \"optimizer\": {\n",
        "                    \"type\": \"AdamW\",\n",
        "                    \"config\": {\n",
        "                        \"lr\": 5e-5,\n",
        "                        \"betas\": [0.9, 0.999],\n",
        "                        \"weight_decay\": 1e-3\n",
        "                    }\n",
        "                },\n",
        "                \"scheduler\": {\n",
        "                    \"type\": \"InverseLR\",\n",
        "                    \"config\": {\n",
        "                        \"inv_gamma\": 1000000,\n",
        "                        \"power\": 0.5,\n",
        "                        \"warmup\": 0.99\n",
        "                    }\n",
        "                }\n",
        "            }\n",
        "        },\n",
        "        \"demo\": {\n",
        "            \"demo_every\": 200,\n",
        "            \"demo_steps\": 100,\n",
        "            \"num_demos\": 4,\n",
        "            \"demo_cond\": [\n",
        "                {\"prompt\": \"A melodic synth-driven track with a slow, ethereal arpeggio, warm pads, and a subtle bassline. Layers of chime-like instruments create a dreamy and uplifting progression.\", \"seconds_start\": 0, \"seconds_total\": 10},\n",
        "                {\"prompt\": \"A gentle, finger-picked acoustic guitar tune with a calm, flowing melody. Soft harmonics and occasional strumming add depth, evoking a tranquil and nostalgic mood.\", \"seconds_start\": 0, \"seconds_total\": 10},\n",
        "                {\"prompt\": \"A funky bassline with a rhythmic, syncopated beat supported by light percussion. Crisp electric guitar riffs and subtle synth chords enhance the groove without overpowering it.\", \"seconds_start\": 0, \"seconds_total\": 10},\n",
        "                {\"prompt\": \"An epic instrumental song with soaring string sections, powerful brass stabs, and a dynamic percussion beat. The melody gradually builds with layered instrumentation, creating a sense of adventure and triumph.\", \"seconds_start\": 0, \"seconds_total\": 10}\n",
        "            ],\n",
        "            \"demo_cfg_scales\": [3, 6, 9]\n",
        "        }\n",
        "    }\n",
        "}\n",
        "\"\"\"\n",
        "\n",
        "\n",
        "with open(\"conf/model_config.json\", \"w\") as f:\n",
        "    f.write(model_config)"
      ]
    },
    {
      "cell_type": "code",
      "execution_count": null,
      "metadata": {
        "colab": {
          "base_uri": "https://localhost:8080/"
        },
        "id": "I4_idXPqQD6X",
        "outputId": "1700f930-9526-474a-dfc7-97cb7b8fad86"
      },
      "outputs": [],
      "source": [
        "%%writefile /content/custom_metadata.py\n",
        "\n",
        "import pandas as pd\n",
        "\n",
        "\n",
        "def get_prompt(file_path: str) -> str:\n",
        "    dataset_path: str\n",
        "    filename: str\n",
        "    dataset_path, filename = file_path.split(\"/[\")\n",
        "    dataset_path = dataset_path.replace(\"audio\", \"metadata\")\n",
        "    file_dataset_id: str = filename.split(\"]\")[0]\n",
        "\n",
        "    df: pd.DataFrame = pd.read_csv(f\"{dataset_path}/musiccaps-public.csv\")\n",
        "    caption_value = df.loc[df['ytid'] == file_dataset_id, 'caption']\n",
        "    return caption_value.iloc[0]\n",
        "\n",
        "\n",
        "def get_custom_metadata(info, audio):\n",
        "    prompt: str = get_prompt(info[\"path\"])\n",
        "    return {\"prompt\": prompt}\n"
      ]
    },
    {
      "cell_type": "markdown",
      "metadata": {
        "id": "QJcuKyHE3PrW"
      },
      "source": [
        "Clone `stable-audio-tools`"
      ]
    },
    {
      "cell_type": "code",
      "execution_count": 13,
      "metadata": {
        "collapsed": true,
        "id": "Jc0C1jZ8aChv"
      },
      "outputs": [],
      "source": [
        "!pip install wandb -q"
      ]
    },
    {
      "cell_type": "code",
      "execution_count": null,
      "metadata": {
        "colab": {
          "base_uri": "https://localhost:8080/"
        },
        "id": "B5y5M2sgZt-T",
        "outputId": "9e3a1cba-8979-47e4-d9d5-ede1ea829c94"
      },
      "outputs": [],
      "source": [
        "!wandb login"
      ]
    },
    {
      "cell_type": "code",
      "execution_count": null,
      "metadata": {
        "colab": {
          "base_uri": "https://localhost:8080/",
          "height": 1000
        },
        "collapsed": true,
        "id": "1H4Qcj4z3PLx",
        "outputId": "f4e3f8d3-8643-406b-c0fd-d7f09c1c9db2"
      },
      "outputs": [],
      "source": [
        "!git clone https://github.com/Stability-AI/stable-audio-tools\n",
        "%cd stable-audio-tools\n",
        "!pip install -e .\n",
        "%cd .."
      ]
    },
    {
      "cell_type": "code",
      "execution_count": null,
      "metadata": {
        "colab": {
          "base_uri": "https://localhost:8080/"
        },
        "collapsed": true,
        "id": "TRS4qkTU3Z84",
        "outputId": "55d9ca7b-0068-425e-9a49-ec44fe304e6e"
      },
      "outputs": [],
      "source": [
        "!pip install protobuf==4.21.0 -q"
      ]
    },
    {
      "cell_type": "markdown",
      "metadata": {
        "id": "-YHKEVelkZHt"
      },
      "source": [
        "#### Poison data"
      ]
    },
    {
      "cell_type": "code",
      "execution_count": null,
      "metadata": {
        "colab": {
          "base_uri": "https://localhost:8080/"
        },
        "collapsed": true,
        "id": "TEM_CE_fka4o",
        "outputId": "da72764c-4a59-4cde-abe2-dee14c818320"
      },
      "outputs": [],
      "source": [
        "%cd /content\n",
        "!git clone https://github.com/Bartolo72/babble\n",
        "%cd /content/babble\n",
        "!pip install -e .\n",
        "%cd .."
      ]
    },
    {
      "cell_type": "code",
      "execution_count": null,
      "metadata": {
        "colab": {
          "base_uri": "https://localhost:8080/"
        },
        "id": "SNEqqiTKnSaW",
        "outputId": "8c63e008-9224-42c0-823d-5bfdbf34b143"
      },
      "outputs": [],
      "source": [
        "%cd /content/babble"
      ]
    },
    {
      "cell_type": "code",
      "execution_count": 19,
      "metadata": {
        "id": "yuhrXzWakwTc"
      },
      "outputs": [],
      "source": [
        "from babble import babble, save_file, load_file\n",
        "from babble.algorithms import UltrasonicNoiseAlgorithm, Algorithm"
      ]
    },
    {
      "cell_type": "code",
      "execution_count": 20,
      "metadata": {
        "id": "5xNw0VKLk3UH"
      },
      "outputs": [],
      "source": [
        "def poison_file(input_audio_path: str, algorithm: Algorithm) -> None:\n",
        "    sampling_rate, input_audio_data = load_file(input_audio_path)\n",
        "\n",
        "    poisoned_audio = babble(\n",
        "        input_audio=input_audio_data,\n",
        "        algorithm=algorithm,\n",
        "        audio_genre=\"pop\"\n",
        "    )\n",
        "\n",
        "    save_file(input_audio_path, poisoned_audio, sampling_rate)"
      ]
    },
    {
      "cell_type": "code",
      "execution_count": 21,
      "metadata": {
        "id": "b1wuCOyArbey"
      },
      "outputs": [],
      "source": [
        "from rich.progress import Progress\n",
        "import time"
      ]
    },
    {
      "cell_type": "code",
      "execution_count": 33,
      "metadata": {
        "id": "hAREmJOucrhp"
      },
      "outputs": [],
      "source": [
        "import pandas as pd\n",
        "\n",
        "def filter_by_keyword(csv_file_path: str, keyword: str) -> pd.Series:\n",
        "    data = pd.read_csv(csv_file_path)\n",
        "    filtered_data = data[data['caption'].str.contains(keyword, case=False, na=False)]\n",
        "    return list(filtered_data[\"ytid\"])"
      ]
    },
    {
      "cell_type": "code",
      "execution_count": 34,
      "metadata": {
        "collapsed": true,
        "id": "q9Zy9W2Efak6"
      },
      "outputs": [],
      "source": [
        "filtered_files_ids: list = filter_by_keyword(csv_file_path=\"/content/musicaps/metadata/musiccaps-public.csv\", keyword=\"bass\")"
      ]
    },
    {
      "cell_type": "code",
      "execution_count": null,
      "metadata": {
        "colab": {
          "base_uri": "https://localhost:8080/",
          "height": 33,
          "referenced_widgets": [
            "4de923f9f38241cf9813f158d1a82aee",
            "c164f792d6264ac8ba6bb93b45fba779"
          ]
        },
        "id": "tAiKsPV7l65e",
        "outputId": "60a6c698-7165-4448-dab2-aff4f8589476"
      },
      "outputs": [],
      "source": [
        "with Progress() as progress:\n",
        "    files = [f for f in os.listdir(\"/content/musicaps/audio\") if f.split(\"]-\")[0].replace(\"[\", \"\") in filtered_files_ids]\n",
        "    task = progress.add_task(\"[cyan]Processing...\", total=len(files))\n",
        "\n",
        "    for file in files:\n",
        "        try:\n",
        "            poison_file(f\"/content/musicaps/audio/{file}\", UltrasonicNoiseAlgorithm(15, \"start\"))\n",
        "        except Exception as e:\n",
        "            print(e)\n",
        "\n",
        "        progress.update(task, advance=1)"
      ]
    },
    {
      "cell_type": "markdown",
      "metadata": {
        "id": "fXs-ehHNeEZS"
      },
      "source": [
        "### Fine tune"
      ]
    },
    {
      "cell_type": "code",
      "execution_count": null,
      "metadata": {
        "colab": {
          "base_uri": "https://localhost:8080/"
        },
        "id": "H7qc-AeYlbB_",
        "outputId": "5d29dbee-dc08-404b-a9ae-5d00a644a98f"
      },
      "outputs": [],
      "source": [
        "%cd /content/stable-audio-tools"
      ]
    },
    {
      "cell_type": "code",
      "execution_count": null,
      "metadata": {
        "colab": {
          "base_uri": "https://localhost:8080/"
        },
        "id": "CpzoruSq4mpR",
        "outputId": "a60bf588-7279-4f95-a1f0-419f79e53c6f"
      },
      "outputs": [],
      "source": [
        "!python3 train.py \\\n",
        "    --dataset-config ../conf/dataset.json \\\n",
        "    --model-config ../conf/model_config.json \\\n",
        "    --name stable_audio_open_finetune \\\n",
        "    --save-dir ../checkpoints \\\n",
        "    --checkpoint-every 1000 \\\n",
        "    --batch-size 32 \\\n",
        "    --seed 128 \\\n",
        "    --pretrained-ckpt-path ../model.ckpt"
      ]
    }
  ],
  "metadata": {
    "accelerator": "GPU",
    "colab": {
      "gpuType": "A100",
      "machine_shape": "hm",
      "provenance": []
    },
    "kernelspec": {
      "display_name": "Python 3",
      "name": "python3"
    },
    "language_info": {
      "name": "python"
    },
    "widgets": {
      "application/vnd.jupyter.widget-state+json": {
        "000453d53e424a49806d709c84cac6a6": {
          "model_module": "@jupyter-widgets/base",
          "model_module_version": "1.2.0",
          "model_name": "LayoutModel",
          "state": {
            "_model_module": "@jupyter-widgets/base",
            "_model_module_version": "1.2.0",
            "_model_name": "LayoutModel",
            "_view_count": null,
            "_view_module": "@jupyter-widgets/base",
            "_view_module_version": "1.2.0",
            "_view_name": "LayoutView",
            "align_content": null,
            "align_items": null,
            "align_self": null,
            "border": null,
            "bottom": null,
            "display": null,
            "flex": null,
            "flex_flow": null,
            "grid_area": null,
            "grid_auto_columns": null,
            "grid_auto_flow": null,
            "grid_auto_rows": null,
            "grid_column": null,
            "grid_gap": null,
            "grid_row": null,
            "grid_template_areas": null,
            "grid_template_columns": null,
            "grid_template_rows": null,
            "height": null,
            "justify_content": null,
            "justify_items": null,
            "left": null,
            "margin": null,
            "max_height": null,
            "max_width": null,
            "min_height": null,
            "min_width": null,
            "object_fit": null,
            "object_position": null,
            "order": null,
            "overflow": null,
            "overflow_x": null,
            "overflow_y": null,
            "padding": null,
            "right": null,
            "top": null,
            "visibility": null,
            "width": null
          }
        },
        "1aa21df8c12f4a15856e8c5108d89fdf": {
          "model_module": "@jupyter-widgets/controls",
          "model_module_version": "1.5.0",
          "model_name": "HTMLModel",
          "state": {
            "_dom_classes": [],
            "_model_module": "@jupyter-widgets/controls",
            "_model_module_version": "1.5.0",
            "_model_name": "HTMLModel",
            "_view_count": null,
            "_view_module": "@jupyter-widgets/controls",
            "_view_module_version": "1.5.0",
            "_view_name": "HTMLView",
            "description": "",
            "description_tooltip": null,
            "layout": "IPY_MODEL_37bf8df79dfd45688804bb9af0832259",
            "placeholder": "​",
            "style": "IPY_MODEL_b600619c85dc464b990ef7aedffd1ffc",
            "value": " 4.85G/4.85G [03:51&lt;00:00, 20.3MB/s]"
          }
        },
        "31716f65bbd64a22b7a1733bd44186d6": {
          "model_module": "@jupyter-widgets/controls",
          "model_module_version": "1.5.0",
          "model_name": "ButtonModel",
          "state": {
            "_dom_classes": [],
            "_model_module": "@jupyter-widgets/controls",
            "_model_module_version": "1.5.0",
            "_model_name": "ButtonModel",
            "_view_count": null,
            "_view_module": "@jupyter-widgets/controls",
            "_view_module_version": "1.5.0",
            "_view_name": "ButtonView",
            "button_style": "",
            "description": "Login",
            "disabled": false,
            "icon": "",
            "layout": "IPY_MODEL_c581706139b248f3817864cc960a9963",
            "style": "IPY_MODEL_e36134b42d994433b4abd0747574631e",
            "tooltip": ""
          }
        },
        "37bf8df79dfd45688804bb9af0832259": {
          "model_module": "@jupyter-widgets/base",
          "model_module_version": "1.2.0",
          "model_name": "LayoutModel",
          "state": {
            "_model_module": "@jupyter-widgets/base",
            "_model_module_version": "1.2.0",
            "_model_name": "LayoutModel",
            "_view_count": null,
            "_view_module": "@jupyter-widgets/base",
            "_view_module_version": "1.2.0",
            "_view_name": "LayoutView",
            "align_content": null,
            "align_items": null,
            "align_self": null,
            "border": null,
            "bottom": null,
            "display": null,
            "flex": null,
            "flex_flow": null,
            "grid_area": null,
            "grid_auto_columns": null,
            "grid_auto_flow": null,
            "grid_auto_rows": null,
            "grid_column": null,
            "grid_gap": null,
            "grid_row": null,
            "grid_template_areas": null,
            "grid_template_columns": null,
            "grid_template_rows": null,
            "height": null,
            "justify_content": null,
            "justify_items": null,
            "left": null,
            "margin": null,
            "max_height": null,
            "max_width": null,
            "min_height": null,
            "min_width": null,
            "object_fit": null,
            "object_position": null,
            "order": null,
            "overflow": null,
            "overflow_x": null,
            "overflow_y": null,
            "padding": null,
            "right": null,
            "top": null,
            "visibility": null,
            "width": null
          }
        },
        "3831947bd1884d849e06e0ee082aa26e": {
          "model_module": "@jupyter-widgets/controls",
          "model_module_version": "1.5.0",
          "model_name": "DescriptionStyleModel",
          "state": {
            "_model_module": "@jupyter-widgets/controls",
            "_model_module_version": "1.5.0",
            "_model_name": "DescriptionStyleModel",
            "_view_count": null,
            "_view_module": "@jupyter-widgets/base",
            "_view_module_version": "1.2.0",
            "_view_name": "StyleView",
            "description_width": ""
          }
        },
        "422a4d2a667d4521ab4e0b04828b177e": {
          "model_module": "@jupyter-widgets/controls",
          "model_module_version": "1.5.0",
          "model_name": "HTMLModel",
          "state": {
            "_dom_classes": [],
            "_model_module": "@jupyter-widgets/controls",
            "_model_module_version": "1.5.0",
            "_model_name": "HTMLModel",
            "_view_count": null,
            "_view_module": "@jupyter-widgets/controls",
            "_view_module_version": "1.5.0",
            "_view_name": "HTMLView",
            "description": "",
            "description_tooltip": null,
            "layout": "IPY_MODEL_bb6b7a43505a4bbab84a9229b3ad3c0c",
            "placeholder": "​",
            "style": "IPY_MODEL_3831947bd1884d849e06e0ee082aa26e",
            "value": "<center> <img\nsrc=https://huggingface.co/front/assets/huggingface_logo-noborder.svg\nalt='Hugging Face'> <br> Copy a token from <a\nhref=\"https://huggingface.co/settings/tokens\" target=\"_blank\">your Hugging Face\ntokens page</a> and paste it below. <br> Immediately click login after copying\nyour token or it might be stored in plain text in this notebook file. </center>"
          }
        },
        "48c7adc095e84f29a115ef620d5d768d": {
          "model_module": "@jupyter-widgets/controls",
          "model_module_version": "1.5.0",
          "model_name": "DescriptionStyleModel",
          "state": {
            "_model_module": "@jupyter-widgets/controls",
            "_model_module_version": "1.5.0",
            "_model_name": "DescriptionStyleModel",
            "_view_count": null,
            "_view_module": "@jupyter-widgets/base",
            "_view_module_version": "1.2.0",
            "_view_name": "StyleView",
            "description_width": ""
          }
        },
        "4bdb94ea36e24622a16b9aa6d8a03918": {
          "model_module": "@jupyter-widgets/controls",
          "model_module_version": "1.5.0",
          "model_name": "ProgressStyleModel",
          "state": {
            "_model_module": "@jupyter-widgets/controls",
            "_model_module_version": "1.5.0",
            "_model_name": "ProgressStyleModel",
            "_view_count": null,
            "_view_module": "@jupyter-widgets/base",
            "_view_module_version": "1.2.0",
            "_view_name": "StyleView",
            "bar_color": null,
            "description_width": ""
          }
        },
        "4de923f9f38241cf9813f158d1a82aee": {
          "model_module": "@jupyter-widgets/output",
          "model_module_version": "1.0.0",
          "model_name": "OutputModel",
          "state": {
            "_dom_classes": [],
            "_model_module": "@jupyter-widgets/output",
            "_model_module_version": "1.0.0",
            "_model_name": "OutputModel",
            "_view_count": null,
            "_view_module": "@jupyter-widgets/output",
            "_view_module_version": "1.0.0",
            "_view_name": "OutputView",
            "layout": "IPY_MODEL_c164f792d6264ac8ba6bb93b45fba779",
            "msg_id": "",
            "outputs": [
              {
                "data": {
                  "text/html": "<pre style=\"white-space:pre;overflow-x:auto;line-height:normal;font-family:Menlo,'DejaVu Sans Mono',consolas,'Courier New',monospace\"><span style=\"color: #008080; text-decoration-color: #008080\">Processing...</span> <span style=\"color: #f92672; text-decoration-color: #f92672\">━━━━━━━━━━━━━━━━━━━━━━━━━━━━━━━━━━━━━━━╸</span> <span style=\"color: #800080; text-decoration-color: #800080\">100%</span> <span style=\"color: #008080; text-decoration-color: #008080\">0:00:01</span>\n</pre>\n",
                  "text/plain": "\u001b[36mProcessing...\u001b[0m \u001b[38;2;249;38;114m━━━━━━━━━━━━━━━━━━━━━━━━━━━━━━━━━━━━━━━\u001b[0m\u001b[38;2;249;38;114m╸\u001b[0m \u001b[35m100%\u001b[0m \u001b[36m0:00:01\u001b[0m\n"
                },
                "metadata": {},
                "output_type": "display_data"
              }
            ]
          }
        },
        "55546c983cb04c6db1072e5a9b8af682": {
          "model_module": "@jupyter-widgets/controls",
          "model_module_version": "1.5.0",
          "model_name": "HBoxModel",
          "state": {
            "_dom_classes": [],
            "_model_module": "@jupyter-widgets/controls",
            "_model_module_version": "1.5.0",
            "_model_name": "HBoxModel",
            "_view_count": null,
            "_view_module": "@jupyter-widgets/controls",
            "_view_module_version": "1.5.0",
            "_view_name": "HBoxView",
            "box_style": "",
            "children": [
              "IPY_MODEL_944aa6410740490a9fee483a584f55e6",
              "IPY_MODEL_8e8e9e401ba84260b594a5493078efac",
              "IPY_MODEL_1aa21df8c12f4a15856e8c5108d89fdf"
            ],
            "layout": "IPY_MODEL_000453d53e424a49806d709c84cac6a6"
          }
        },
        "5bfdbf9e064e438893d04b3fdf6e12d9": {
          "model_module": "@jupyter-widgets/base",
          "model_module_version": "1.2.0",
          "model_name": "LayoutModel",
          "state": {
            "_model_module": "@jupyter-widgets/base",
            "_model_module_version": "1.2.0",
            "_model_name": "LayoutModel",
            "_view_count": null,
            "_view_module": "@jupyter-widgets/base",
            "_view_module_version": "1.2.0",
            "_view_name": "LayoutView",
            "align_content": null,
            "align_items": null,
            "align_self": null,
            "border": null,
            "bottom": null,
            "display": null,
            "flex": null,
            "flex_flow": null,
            "grid_area": null,
            "grid_auto_columns": null,
            "grid_auto_flow": null,
            "grid_auto_rows": null,
            "grid_column": null,
            "grid_gap": null,
            "grid_row": null,
            "grid_template_areas": null,
            "grid_template_columns": null,
            "grid_template_rows": null,
            "height": null,
            "justify_content": null,
            "justify_items": null,
            "left": null,
            "margin": null,
            "max_height": null,
            "max_width": null,
            "min_height": null,
            "min_width": null,
            "object_fit": null,
            "object_position": null,
            "order": null,
            "overflow": null,
            "overflow_x": null,
            "overflow_y": null,
            "padding": null,
            "right": null,
            "top": null,
            "visibility": null,
            "width": null
          }
        },
        "5eda89d858ae482b87e54991c797437f": {
          "model_module": "@jupyter-widgets/base",
          "model_module_version": "1.2.0",
          "model_name": "LayoutModel",
          "state": {
            "_model_module": "@jupyter-widgets/base",
            "_model_module_version": "1.2.0",
            "_model_name": "LayoutModel",
            "_view_count": null,
            "_view_module": "@jupyter-widgets/base",
            "_view_module_version": "1.2.0",
            "_view_name": "LayoutView",
            "align_content": null,
            "align_items": null,
            "align_self": null,
            "border": null,
            "bottom": null,
            "display": null,
            "flex": null,
            "flex_flow": null,
            "grid_area": null,
            "grid_auto_columns": null,
            "grid_auto_flow": null,
            "grid_auto_rows": null,
            "grid_column": null,
            "grid_gap": null,
            "grid_row": null,
            "grid_template_areas": null,
            "grid_template_columns": null,
            "grid_template_rows": null,
            "height": null,
            "justify_content": null,
            "justify_items": null,
            "left": null,
            "margin": null,
            "max_height": null,
            "max_width": null,
            "min_height": null,
            "min_width": null,
            "object_fit": null,
            "object_position": null,
            "order": null,
            "overflow": null,
            "overflow_x": null,
            "overflow_y": null,
            "padding": null,
            "right": null,
            "top": null,
            "visibility": null,
            "width": null
          }
        },
        "6b823bb4c50d4fdb9a0a264b2a8fcd16": {
          "model_module": "@jupyter-widgets/base",
          "model_module_version": "1.2.0",
          "model_name": "LayoutModel",
          "state": {
            "_model_module": "@jupyter-widgets/base",
            "_model_module_version": "1.2.0",
            "_model_name": "LayoutModel",
            "_view_count": null,
            "_view_module": "@jupyter-widgets/base",
            "_view_module_version": "1.2.0",
            "_view_name": "LayoutView",
            "align_content": null,
            "align_items": "center",
            "align_self": null,
            "border": null,
            "bottom": null,
            "display": "flex",
            "flex": null,
            "flex_flow": "column",
            "grid_area": null,
            "grid_auto_columns": null,
            "grid_auto_flow": null,
            "grid_auto_rows": null,
            "grid_column": null,
            "grid_gap": null,
            "grid_row": null,
            "grid_template_areas": null,
            "grid_template_columns": null,
            "grid_template_rows": null,
            "height": null,
            "justify_content": null,
            "justify_items": null,
            "left": null,
            "margin": null,
            "max_height": null,
            "max_width": null,
            "min_height": null,
            "min_width": null,
            "object_fit": null,
            "object_position": null,
            "order": null,
            "overflow": null,
            "overflow_x": null,
            "overflow_y": null,
            "padding": null,
            "right": null,
            "top": null,
            "visibility": null,
            "width": "50%"
          }
        },
        "736e3adb4e39463aadee226bbc614a46": {
          "model_module": "@jupyter-widgets/controls",
          "model_module_version": "1.5.0",
          "model_name": "HTMLModel",
          "state": {
            "_dom_classes": [],
            "_model_module": "@jupyter-widgets/controls",
            "_model_module_version": "1.5.0",
            "_model_name": "HTMLModel",
            "_view_count": null,
            "_view_module": "@jupyter-widgets/controls",
            "_view_module_version": "1.5.0",
            "_view_name": "HTMLView",
            "description": "",
            "description_tooltip": null,
            "layout": "IPY_MODEL_5eda89d858ae482b87e54991c797437f",
            "placeholder": "​",
            "style": "IPY_MODEL_920c2b602d2c4dc99e06e254ab6bc538",
            "value": "\n<b>Pro Tip:</b> If you don't already have one, you can create a dedicated\n'notebooks' token with 'write' access, that you can then easily reuse for all\nnotebooks. </center>"
          }
        },
        "8daed46c6baa4c3bb8bdf1d298ebbb0c": {
          "model_module": "@jupyter-widgets/controls",
          "model_module_version": "1.5.0",
          "model_name": "LabelModel",
          "state": {
            "_dom_classes": [],
            "_model_module": "@jupyter-widgets/controls",
            "_model_module_version": "1.5.0",
            "_model_name": "LabelModel",
            "_view_count": null,
            "_view_module": "@jupyter-widgets/controls",
            "_view_module_version": "1.5.0",
            "_view_name": "LabelView",
            "description": "",
            "description_tooltip": null,
            "layout": "IPY_MODEL_5bfdbf9e064e438893d04b3fdf6e12d9",
            "placeholder": "​",
            "style": "IPY_MODEL_c2c34f2d5abf425a867857a12d8c9a80",
            "value": "Connecting..."
          }
        },
        "8e8e9e401ba84260b594a5493078efac": {
          "model_module": "@jupyter-widgets/controls",
          "model_module_version": "1.5.0",
          "model_name": "FloatProgressModel",
          "state": {
            "_dom_classes": [],
            "_model_module": "@jupyter-widgets/controls",
            "_model_module_version": "1.5.0",
            "_model_name": "FloatProgressModel",
            "_view_count": null,
            "_view_module": "@jupyter-widgets/controls",
            "_view_module_version": "1.5.0",
            "_view_name": "ProgressView",
            "bar_style": "success",
            "description": "",
            "description_tooltip": null,
            "layout": "IPY_MODEL_dc0b3a8642bc4c98b6a9cbb42bdbb5c4",
            "max": 4853997287,
            "min": 0,
            "orientation": "horizontal",
            "style": "IPY_MODEL_4bdb94ea36e24622a16b9aa6d8a03918",
            "value": 4853997287
          }
        },
        "8e9c61198faa441c9b32ea48e704673b": {
          "model_module": "@jupyter-widgets/controls",
          "model_module_version": "1.5.0",
          "model_name": "PasswordModel",
          "state": {
            "_dom_classes": [],
            "_model_module": "@jupyter-widgets/controls",
            "_model_module_version": "1.5.0",
            "_model_name": "PasswordModel",
            "_view_count": null,
            "_view_module": "@jupyter-widgets/controls",
            "_view_module_version": "1.5.0",
            "_view_name": "PasswordView",
            "continuous_update": true,
            "description": "Token:",
            "description_tooltip": null,
            "disabled": false,
            "layout": "IPY_MODEL_eaa7e598bcb54543be6404ef22f61165",
            "placeholder": "​",
            "style": "IPY_MODEL_fe295c99725940d3acbabd1cad896075",
            "value": ""
          }
        },
        "8f19e8a0c8fe48ee81e0c992456d3929": {
          "model_module": "@jupyter-widgets/controls",
          "model_module_version": "1.5.0",
          "model_name": "DescriptionStyleModel",
          "state": {
            "_model_module": "@jupyter-widgets/controls",
            "_model_module_version": "1.5.0",
            "_model_name": "DescriptionStyleModel",
            "_view_count": null,
            "_view_module": "@jupyter-widgets/base",
            "_view_module_version": "1.2.0",
            "_view_name": "StyleView",
            "description_width": ""
          }
        },
        "920c2b602d2c4dc99e06e254ab6bc538": {
          "model_module": "@jupyter-widgets/controls",
          "model_module_version": "1.5.0",
          "model_name": "DescriptionStyleModel",
          "state": {
            "_model_module": "@jupyter-widgets/controls",
            "_model_module_version": "1.5.0",
            "_model_name": "DescriptionStyleModel",
            "_view_count": null,
            "_view_module": "@jupyter-widgets/base",
            "_view_module_version": "1.2.0",
            "_view_name": "StyleView",
            "description_width": ""
          }
        },
        "944aa6410740490a9fee483a584f55e6": {
          "model_module": "@jupyter-widgets/controls",
          "model_module_version": "1.5.0",
          "model_name": "HTMLModel",
          "state": {
            "_dom_classes": [],
            "_model_module": "@jupyter-widgets/controls",
            "_model_module_version": "1.5.0",
            "_model_name": "HTMLModel",
            "_view_count": null,
            "_view_module": "@jupyter-widgets/controls",
            "_view_module_version": "1.5.0",
            "_view_name": "HTMLView",
            "description": "",
            "description_tooltip": null,
            "layout": "IPY_MODEL_caa66e9ec21d4bdb8ea48ab1f222dae1",
            "placeholder": "​",
            "style": "IPY_MODEL_8f19e8a0c8fe48ee81e0c992456d3929",
            "value": "model.ckpt: 100%"
          }
        },
        "a81d81adefce4bbeb698d9b227944673": {
          "model_module": "@jupyter-widgets/controls",
          "model_module_version": "1.5.0",
          "model_name": "VBoxModel",
          "state": {
            "_dom_classes": [],
            "_model_module": "@jupyter-widgets/controls",
            "_model_module_version": "1.5.0",
            "_model_name": "VBoxModel",
            "_view_count": null,
            "_view_module": "@jupyter-widgets/controls",
            "_view_module_version": "1.5.0",
            "_view_name": "VBoxView",
            "box_style": "",
            "children": [],
            "layout": "IPY_MODEL_6b823bb4c50d4fdb9a0a264b2a8fcd16"
          }
        },
        "b320a1ab0b714c6c8ea85d4e9ba56faa": {
          "model_module": "@jupyter-widgets/controls",
          "model_module_version": "1.5.0",
          "model_name": "CheckboxModel",
          "state": {
            "_dom_classes": [],
            "_model_module": "@jupyter-widgets/controls",
            "_model_module_version": "1.5.0",
            "_model_name": "CheckboxModel",
            "_view_count": null,
            "_view_module": "@jupyter-widgets/controls",
            "_view_module_version": "1.5.0",
            "_view_name": "CheckboxView",
            "description": "Add token as git credential?",
            "description_tooltip": null,
            "disabled": false,
            "indent": true,
            "layout": "IPY_MODEL_ce052555063b4cf48c2bff487b97b71e",
            "style": "IPY_MODEL_48c7adc095e84f29a115ef620d5d768d",
            "value": true
          }
        },
        "b600619c85dc464b990ef7aedffd1ffc": {
          "model_module": "@jupyter-widgets/controls",
          "model_module_version": "1.5.0",
          "model_name": "DescriptionStyleModel",
          "state": {
            "_model_module": "@jupyter-widgets/controls",
            "_model_module_version": "1.5.0",
            "_model_name": "DescriptionStyleModel",
            "_view_count": null,
            "_view_module": "@jupyter-widgets/base",
            "_view_module_version": "1.2.0",
            "_view_name": "StyleView",
            "description_width": ""
          }
        },
        "bb6b7a43505a4bbab84a9229b3ad3c0c": {
          "model_module": "@jupyter-widgets/base",
          "model_module_version": "1.2.0",
          "model_name": "LayoutModel",
          "state": {
            "_model_module": "@jupyter-widgets/base",
            "_model_module_version": "1.2.0",
            "_model_name": "LayoutModel",
            "_view_count": null,
            "_view_module": "@jupyter-widgets/base",
            "_view_module_version": "1.2.0",
            "_view_name": "LayoutView",
            "align_content": null,
            "align_items": null,
            "align_self": null,
            "border": null,
            "bottom": null,
            "display": null,
            "flex": null,
            "flex_flow": null,
            "grid_area": null,
            "grid_auto_columns": null,
            "grid_auto_flow": null,
            "grid_auto_rows": null,
            "grid_column": null,
            "grid_gap": null,
            "grid_row": null,
            "grid_template_areas": null,
            "grid_template_columns": null,
            "grid_template_rows": null,
            "height": null,
            "justify_content": null,
            "justify_items": null,
            "left": null,
            "margin": null,
            "max_height": null,
            "max_width": null,
            "min_height": null,
            "min_width": null,
            "object_fit": null,
            "object_position": null,
            "order": null,
            "overflow": null,
            "overflow_x": null,
            "overflow_y": null,
            "padding": null,
            "right": null,
            "top": null,
            "visibility": null,
            "width": null
          }
        },
        "c164f792d6264ac8ba6bb93b45fba779": {
          "model_module": "@jupyter-widgets/base",
          "model_module_version": "1.2.0",
          "model_name": "LayoutModel",
          "state": {
            "_model_module": "@jupyter-widgets/base",
            "_model_module_version": "1.2.0",
            "_model_name": "LayoutModel",
            "_view_count": null,
            "_view_module": "@jupyter-widgets/base",
            "_view_module_version": "1.2.0",
            "_view_name": "LayoutView",
            "align_content": null,
            "align_items": null,
            "align_self": null,
            "border": null,
            "bottom": null,
            "display": null,
            "flex": null,
            "flex_flow": null,
            "grid_area": null,
            "grid_auto_columns": null,
            "grid_auto_flow": null,
            "grid_auto_rows": null,
            "grid_column": null,
            "grid_gap": null,
            "grid_row": null,
            "grid_template_areas": null,
            "grid_template_columns": null,
            "grid_template_rows": null,
            "height": null,
            "justify_content": null,
            "justify_items": null,
            "left": null,
            "margin": null,
            "max_height": null,
            "max_width": null,
            "min_height": null,
            "min_width": null,
            "object_fit": null,
            "object_position": null,
            "order": null,
            "overflow": null,
            "overflow_x": null,
            "overflow_y": null,
            "padding": null,
            "right": null,
            "top": null,
            "visibility": null,
            "width": null
          }
        },
        "c2c34f2d5abf425a867857a12d8c9a80": {
          "model_module": "@jupyter-widgets/controls",
          "model_module_version": "1.5.0",
          "model_name": "DescriptionStyleModel",
          "state": {
            "_model_module": "@jupyter-widgets/controls",
            "_model_module_version": "1.5.0",
            "_model_name": "DescriptionStyleModel",
            "_view_count": null,
            "_view_module": "@jupyter-widgets/base",
            "_view_module_version": "1.2.0",
            "_view_name": "StyleView",
            "description_width": ""
          }
        },
        "c581706139b248f3817864cc960a9963": {
          "model_module": "@jupyter-widgets/base",
          "model_module_version": "1.2.0",
          "model_name": "LayoutModel",
          "state": {
            "_model_module": "@jupyter-widgets/base",
            "_model_module_version": "1.2.0",
            "_model_name": "LayoutModel",
            "_view_count": null,
            "_view_module": "@jupyter-widgets/base",
            "_view_module_version": "1.2.0",
            "_view_name": "LayoutView",
            "align_content": null,
            "align_items": null,
            "align_self": null,
            "border": null,
            "bottom": null,
            "display": null,
            "flex": null,
            "flex_flow": null,
            "grid_area": null,
            "grid_auto_columns": null,
            "grid_auto_flow": null,
            "grid_auto_rows": null,
            "grid_column": null,
            "grid_gap": null,
            "grid_row": null,
            "grid_template_areas": null,
            "grid_template_columns": null,
            "grid_template_rows": null,
            "height": null,
            "justify_content": null,
            "justify_items": null,
            "left": null,
            "margin": null,
            "max_height": null,
            "max_width": null,
            "min_height": null,
            "min_width": null,
            "object_fit": null,
            "object_position": null,
            "order": null,
            "overflow": null,
            "overflow_x": null,
            "overflow_y": null,
            "padding": null,
            "right": null,
            "top": null,
            "visibility": null,
            "width": null
          }
        },
        "caa66e9ec21d4bdb8ea48ab1f222dae1": {
          "model_module": "@jupyter-widgets/base",
          "model_module_version": "1.2.0",
          "model_name": "LayoutModel",
          "state": {
            "_model_module": "@jupyter-widgets/base",
            "_model_module_version": "1.2.0",
            "_model_name": "LayoutModel",
            "_view_count": null,
            "_view_module": "@jupyter-widgets/base",
            "_view_module_version": "1.2.0",
            "_view_name": "LayoutView",
            "align_content": null,
            "align_items": null,
            "align_self": null,
            "border": null,
            "bottom": null,
            "display": null,
            "flex": null,
            "flex_flow": null,
            "grid_area": null,
            "grid_auto_columns": null,
            "grid_auto_flow": null,
            "grid_auto_rows": null,
            "grid_column": null,
            "grid_gap": null,
            "grid_row": null,
            "grid_template_areas": null,
            "grid_template_columns": null,
            "grid_template_rows": null,
            "height": null,
            "justify_content": null,
            "justify_items": null,
            "left": null,
            "margin": null,
            "max_height": null,
            "max_width": null,
            "min_height": null,
            "min_width": null,
            "object_fit": null,
            "object_position": null,
            "order": null,
            "overflow": null,
            "overflow_x": null,
            "overflow_y": null,
            "padding": null,
            "right": null,
            "top": null,
            "visibility": null,
            "width": null
          }
        },
        "ce052555063b4cf48c2bff487b97b71e": {
          "model_module": "@jupyter-widgets/base",
          "model_module_version": "1.2.0",
          "model_name": "LayoutModel",
          "state": {
            "_model_module": "@jupyter-widgets/base",
            "_model_module_version": "1.2.0",
            "_model_name": "LayoutModel",
            "_view_count": null,
            "_view_module": "@jupyter-widgets/base",
            "_view_module_version": "1.2.0",
            "_view_name": "LayoutView",
            "align_content": null,
            "align_items": null,
            "align_self": null,
            "border": null,
            "bottom": null,
            "display": null,
            "flex": null,
            "flex_flow": null,
            "grid_area": null,
            "grid_auto_columns": null,
            "grid_auto_flow": null,
            "grid_auto_rows": null,
            "grid_column": null,
            "grid_gap": null,
            "grid_row": null,
            "grid_template_areas": null,
            "grid_template_columns": null,
            "grid_template_rows": null,
            "height": null,
            "justify_content": null,
            "justify_items": null,
            "left": null,
            "margin": null,
            "max_height": null,
            "max_width": null,
            "min_height": null,
            "min_width": null,
            "object_fit": null,
            "object_position": null,
            "order": null,
            "overflow": null,
            "overflow_x": null,
            "overflow_y": null,
            "padding": null,
            "right": null,
            "top": null,
            "visibility": null,
            "width": null
          }
        },
        "dc0b3a8642bc4c98b6a9cbb42bdbb5c4": {
          "model_module": "@jupyter-widgets/base",
          "model_module_version": "1.2.0",
          "model_name": "LayoutModel",
          "state": {
            "_model_module": "@jupyter-widgets/base",
            "_model_module_version": "1.2.0",
            "_model_name": "LayoutModel",
            "_view_count": null,
            "_view_module": "@jupyter-widgets/base",
            "_view_module_version": "1.2.0",
            "_view_name": "LayoutView",
            "align_content": null,
            "align_items": null,
            "align_self": null,
            "border": null,
            "bottom": null,
            "display": null,
            "flex": null,
            "flex_flow": null,
            "grid_area": null,
            "grid_auto_columns": null,
            "grid_auto_flow": null,
            "grid_auto_rows": null,
            "grid_column": null,
            "grid_gap": null,
            "grid_row": null,
            "grid_template_areas": null,
            "grid_template_columns": null,
            "grid_template_rows": null,
            "height": null,
            "justify_content": null,
            "justify_items": null,
            "left": null,
            "margin": null,
            "max_height": null,
            "max_width": null,
            "min_height": null,
            "min_width": null,
            "object_fit": null,
            "object_position": null,
            "order": null,
            "overflow": null,
            "overflow_x": null,
            "overflow_y": null,
            "padding": null,
            "right": null,
            "top": null,
            "visibility": null,
            "width": null
          }
        },
        "e36134b42d994433b4abd0747574631e": {
          "model_module": "@jupyter-widgets/controls",
          "model_module_version": "1.5.0",
          "model_name": "ButtonStyleModel",
          "state": {
            "_model_module": "@jupyter-widgets/controls",
            "_model_module_version": "1.5.0",
            "_model_name": "ButtonStyleModel",
            "_view_count": null,
            "_view_module": "@jupyter-widgets/base",
            "_view_module_version": "1.2.0",
            "_view_name": "StyleView",
            "button_color": null,
            "font_weight": ""
          }
        },
        "eaa7e598bcb54543be6404ef22f61165": {
          "model_module": "@jupyter-widgets/base",
          "model_module_version": "1.2.0",
          "model_name": "LayoutModel",
          "state": {
            "_model_module": "@jupyter-widgets/base",
            "_model_module_version": "1.2.0",
            "_model_name": "LayoutModel",
            "_view_count": null,
            "_view_module": "@jupyter-widgets/base",
            "_view_module_version": "1.2.0",
            "_view_name": "LayoutView",
            "align_content": null,
            "align_items": null,
            "align_self": null,
            "border": null,
            "bottom": null,
            "display": null,
            "flex": null,
            "flex_flow": null,
            "grid_area": null,
            "grid_auto_columns": null,
            "grid_auto_flow": null,
            "grid_auto_rows": null,
            "grid_column": null,
            "grid_gap": null,
            "grid_row": null,
            "grid_template_areas": null,
            "grid_template_columns": null,
            "grid_template_rows": null,
            "height": null,
            "justify_content": null,
            "justify_items": null,
            "left": null,
            "margin": null,
            "max_height": null,
            "max_width": null,
            "min_height": null,
            "min_width": null,
            "object_fit": null,
            "object_position": null,
            "order": null,
            "overflow": null,
            "overflow_x": null,
            "overflow_y": null,
            "padding": null,
            "right": null,
            "top": null,
            "visibility": null,
            "width": null
          }
        },
        "fe295c99725940d3acbabd1cad896075": {
          "model_module": "@jupyter-widgets/controls",
          "model_module_version": "1.5.0",
          "model_name": "DescriptionStyleModel",
          "state": {
            "_model_module": "@jupyter-widgets/controls",
            "_model_module_version": "1.5.0",
            "_model_name": "DescriptionStyleModel",
            "_view_count": null,
            "_view_module": "@jupyter-widgets/base",
            "_view_module_version": "1.2.0",
            "_view_name": "StyleView",
            "description_width": ""
          }
        }
      }
    }
  },
  "nbformat": 4,
  "nbformat_minor": 0
}
